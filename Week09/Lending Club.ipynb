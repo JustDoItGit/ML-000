{
 "cells": [
  {
   "cell_type": "code",
   "execution_count": 45,
   "metadata": {},
   "outputs": [],
   "source": [
    "import pandas as pd\n",
    "import lightgbm as lgb\n",
    "import statistics\n",
    "from efficient_tuning import *\n",
    "from sklearn.model_selection import KFold"
   ]
  },
  {
   "cell_type": "code",
   "execution_count": 2,
   "metadata": {},
   "outputs": [],
   "source": [
    "train = pd.read_csv('./final/train_final.csv', engine='python')\n",
    "test = pd.read_csv('./final/test_final.csv', engine='python')"
   ]
  },
  {
   "cell_type": "code",
   "execution_count": 3,
   "metadata": {},
   "outputs": [
    {
     "data": {
      "text/plain": [
       "(100000, 146)"
      ]
     },
     "execution_count": 3,
     "metadata": {},
     "output_type": "execute_result"
    }
   ],
   "source": [
    "data = pd.concat([train, test], axis=0, ignore_index=True)\n",
    "data.shape"
   ]
  },
  {
   "cell_type": "code",
   "execution_count": 4,
   "metadata": {},
   "outputs": [
    {
     "data": {
      "text/plain": [
       "(50000, 146)"
      ]
     },
     "execution_count": 4,
     "metadata": {},
     "output_type": "execute_result"
    }
   ],
   "source": [
    "train.shape"
   ]
  },
  {
   "cell_type": "markdown",
   "metadata": {},
   "source": [
    "## lgb默认参数"
   ]
  },
  {
   "cell_type": "code",
   "execution_count": 5,
   "metadata": {},
   "outputs": [
    {
     "data": {
      "text/plain": [
       "True"
      ]
     },
     "execution_count": 5,
     "metadata": {},
     "output_type": "execute_result"
    }
   ],
   "source": [
    "data.shape[0] == sum(data['loan_status'].value_counts())"
   ]
  },
  {
   "cell_type": "code",
   "execution_count": 6,
   "metadata": {},
   "outputs": [],
   "source": [
    "X = data.drop(columns='loan_status').values\n",
    "y = data['loan_status'].values"
   ]
  },
  {
   "cell_type": "code",
   "execution_count": 7,
   "metadata": {},
   "outputs": [],
   "source": [
    "train_data = lgb.Dataset(X, label=y)"
   ]
  },
  {
   "cell_type": "code",
   "execution_count": 8,
   "metadata": {},
   "outputs": [],
   "source": [
    "param = {'num_leaves': 64, 'objective': 'binary'}\n",
    "param['metric'] = 'binary_error'\n",
    "num_round = 10"
   ]
  },
  {
   "cell_type": "code",
   "execution_count": null,
   "metadata": {
    "scrolled": true
   },
   "outputs": [],
   "source": [
    "lgb.cv(param, train_data, num_round, nfold=5)"
   ]
  },
  {
   "cell_type": "code",
   "execution_count": null,
   "metadata": {
    "scrolled": true
   },
   "outputs": [],
   "source": [
    "\"\"\"{'binary_error-mean': [0.19985999999999998,\n",
    "  0.19985999999999998,\n",
    "  0.19985999999999998,\n",
    "  0.19985999999999998,\n",
    "  0.14916,\n",
    "  0.12000999999999999,\n",
    "  0.10207999999999999,\n",
    "  0.09613999999999999,\n",
    "  0.09107000000000001,\n",
    "  0.08845],\n",
    " 'binary_error-stdv': [1.99999999999978e-05,\n",
    "  1.99999999999978e-05,\n",
    "  1.99999999999978e-05,\n",
    "  1.99999999999978e-05,\n",
    "  0.0020941346661568845,\n",
    "  0.0015242703172337918,\n",
    "  0.0018993683160461554,\n",
    "  0.0020594659501919437,\n",
    "  0.002299695632034813,\n",
    "  0.0020344532435030266]}\n",
    "  \"\"\""
   ]
  },
  {
   "cell_type": "markdown",
   "metadata": {},
   "source": [
    "## 自动调参选择最优参数"
   ]
  },
  {
   "cell_type": "code",
   "execution_count": 10,
   "metadata": {},
   "outputs": [],
   "source": [
    "fitter = LGBFitter(label='loan_status')"
   ]
  },
  {
   "cell_type": "code",
   "execution_count": 11,
   "metadata": {},
   "outputs": [],
   "source": [
    "kfold = KFold(n_splits=5)"
   ]
  },
  {
   "cell_type": "code",
   "execution_count": null,
   "metadata": {
    "scrolled": false
   },
   "outputs": [],
   "source": [
    "# 耗时：1:45:23\n",
    "fitter.search_k_fold(kfold, data)"
   ]
  },
  {
   "cell_type": "code",
   "execution_count": 17,
   "metadata": {},
   "outputs": [
    {
     "data": {
      "text/plain": [
       "{'bagging_fraction': 0.9834654040956224,\n",
       " 'boosting': 2,\n",
       " 'device_type': 0,\n",
       " 'drop_rate': 0.1997907495675753,\n",
       " 'extra_tress': 1,\n",
       " 'feature_fraction': 0.6838115928097803,\n",
       " 'lambda_l1': 5.187010489820754,\n",
       " 'lambda_l2': 5.837652960694227,\n",
       " 'learning_rate': 0.07163325236711929,\n",
       " 'metric': 0,\n",
       " 'min_gain_to_split': 0.5254984036581041,\n",
       " 'num_leaves': 0,\n",
       " 'num_rounds': 0,\n",
       " 'num_threads': 0,\n",
       " 'objective': 0,\n",
       " 'uniform_drop': 0}"
      ]
     },
     "execution_count": 17,
     "metadata": {},
     "output_type": "execute_result"
    }
   ],
   "source": [
    "fitter.opt_params"
   ]
  },
  {
   "cell_type": "code",
   "execution_count": 5,
   "metadata": {},
   "outputs": [],
   "source": [
    "# params = {'num_thread': 4, 'num_leaves': 12, 'metric': 'binary', 'objective': 'binary',\n",
    "#                 'num_round': 2000, 'learning_rate': 0.02, 'feature_fraction': 0.8, 'bagging_fraction': 0.8}"
   ]
  },
  {
   "cell_type": "markdown",
   "metadata": {},
   "source": [
    "## 特征选择"
   ]
  },
  {
   "cell_type": "markdown",
   "metadata": {},
   "source": [
    "### 全量特征baseline\n",
    "效果好于lgb默认参数"
   ]
  },
  {
   "cell_type": "code",
   "execution_count": 12,
   "metadata": {},
   "outputs": [],
   "source": [
    "params = {\n",
    "    'num_thread': 4,\n",
    "    'bagging_fraction': 0.9834654040956224,\n",
    "    'boosting': 'goss',\n",
    "    'device_type': 'cpu',\n",
    "    'drop_rate': 0.1997907495675753,\n",
    "    'extra_tress': 1,\n",
    "    'feature_fraction': 0.6838115928097803,\n",
    "    'lambda_l1': 5.187010489820754,\n",
    "    'lambda_l2': 5.837652960694227,\n",
    "    'learning_rate': 0.07163325236711929,\n",
    "    'metric': 'binary_error',\n",
    "    'min_gain_to_split': 0.5254984036581041,\n",
    "    'num_leaves': 64,\n",
    "    'num_round': 1000,\n",
    "    'objective': 'binary',\n",
    "    'uniform_drop': True,\n",
    "}"
   ]
  },
  {
   "cell_type": "code",
   "execution_count": 18,
   "metadata": {
    "scrolled": false
   },
   "outputs": [
    {
     "name": "stdout",
     "output_type": "stream",
     "text": [
      "The minimum is attained in round 51\n",
      "Finished loading model, total used 970 iterations\n",
      "The minimum is attained in round 50\n",
      "Finished loading model, total used 952 iterations\n",
      "The minimum is attained in round 32\n",
      "Finished loading model, total used 964 iterations\n",
      "The minimum is attained in round 230\n",
      "Finished loading model, total used 959 iterations\n",
      "The minimum is attained in round 157\n",
      "Finished loading model, total used 956 iterations\n",
      "CPU times: user 58.6 s, sys: 526 ms, total: 59.1 s\n",
      "Wall time: 15.2 s\n"
     ]
    }
   ],
   "source": [
    "%%time\n",
    "*_, base_acc_result, base_models = fitter.train_k_fold(kfold, train, test, params=params)"
   ]
  },
  {
   "cell_type": "code",
   "execution_count": 46,
   "metadata": {},
   "outputs": [],
   "source": [
    "mean_base_acc_result = statistics.mean(base_acc_result)"
   ]
  },
  {
   "cell_type": "code",
   "execution_count": 48,
   "metadata": {},
   "outputs": [
    {
     "data": {
      "text/plain": [
       "0.08036000000000001"
      ]
     },
     "execution_count": 48,
     "metadata": {},
     "output_type": "execute_result"
    }
   ],
   "source": [
    "mean_base_acc_result"
   ]
  },
  {
   "cell_type": "code",
   "execution_count": 26,
   "metadata": {},
   "outputs": [
    {
     "data": {
      "text/plain": [
       "48"
      ]
     },
     "execution_count": 26,
     "metadata": {},
     "output_type": "execute_result"
    }
   ],
   "source": [
    "import sys\n",
    "sys.getsizeof(best_base_models)"
   ]
  },
  {
   "cell_type": "markdown",
   "metadata": {},
   "source": [
    "### 去除一个feature变量"
   ]
  },
  {
   "cell_type": "code",
   "execution_count": 37,
   "metadata": {},
   "outputs": [],
   "source": [
    "columns = data.columns.to_list()\n",
    "columns.remove('loan_status')"
   ]
  },
  {
   "cell_type": "code",
   "execution_count": null,
   "metadata": {
    "scrolled": true
   },
   "outputs": [],
   "source": [
    "%%time\n",
    "# 半小时左右\n",
    "del_one_feature_base_acc_res = []\n",
    "del_one_feature_mean_base_acc_res = []\n",
    "for del_feature_name in columns:\n",
    "    temp_train = train.drop(columns=del_feature_name)\n",
    "    temp_test = test.drop(columns=del_feature_name)\n",
    "    temp_fitter = LGBFitter(label='loan_status')\n",
    "    temp_kfold = KFold(n_splits=5)\n",
    "    *_, temp_base_acc_result, _ = temp_fitter.train_k_fold(\n",
    "        temp_kfold, temp_train, temp_test, params=params)\n",
    "    del_one_feature_base_acc_res.append(temp_base_acc_result)\n",
    "    del_one_feature_mean_base_acc_res.append(statistics.mean(temp_base_acc_result))"
   ]
  },
  {
   "cell_type": "code",
   "execution_count": 59,
   "metadata": {},
   "outputs": [],
   "source": [
    "sorted_result = sorted(list(zip(columns, del_one_feature_mean_base_acc_res)), key = lambda x: x[1])"
   ]
  },
  {
   "cell_type": "code",
   "execution_count": 64,
   "metadata": {},
   "outputs": [],
   "source": [
    "gt_base_acc = list(filter(lambda x: x[1] < mean_base_acc_result, sorted_result))"
   ]
  },
  {
   "cell_type": "code",
   "execution_count": 76,
   "metadata": {},
   "outputs": [],
   "source": [
    "gt_columns = [i[0] for i in gt_base_acc]"
   ]
  },
  {
   "cell_type": "code",
   "execution_count": 97,
   "metadata": {},
   "outputs": [
    {
     "data": {
      "text/plain": [
       "[('discrete_purpose_1_one_hot', 0.07976000000000001),\n",
       " ('discrete_purpose_5_one_hot', 0.07977999999999999),\n",
       " ('discrete_emp_length_8_one_hot', 0.07986),\n",
       " ('discrete_sub_grade_6_one_hot', 0.07987999999999999),\n",
       " ('discrete_grade_3_one_hot', 0.07988000000000002),\n",
       " ('discrete_addr_state_44_one_hot', 0.07992000000000002),\n",
       " ('continuous_annual_inc', 0.07996),\n",
       " ('discrete_emp_length_7_one_hot', 0.07996),\n",
       " ('discrete_purpose_10_one_hot', 0.07997999999999998),\n",
       " ('discrete_term_1_one_hot', 0.07999999999999999),\n",
       " ('discrete_term_2_one_hot', 0.07999999999999999),\n",
       " ('discrete_home_ownership_3_one_hot', 0.08),\n",
       " ('discrete_addr_state_25_one_hot', 0.08001999999999998),\n",
       " ('discrete_emp_length_9_one_hot', 0.08001999999999998),\n",
       " ('discrete_addr_state_19_one_hot', 0.08002000000000001),\n",
       " ('discrete_sub_grade_11_one_hot', 0.08002000000000001),\n",
       " ('discrete_addr_state_1_one_hot', 0.08004000000000003),\n",
       " ('continuous_annual_inc_joint', 0.08008),\n",
       " ('continuous_dti_joint', 0.08008),\n",
       " ('discrete_addr_state_8_one_hot', 0.08008),\n",
       " ('discrete_addr_state_23_one_hot', 0.08008),\n",
       " ('discrete_sub_grade_1_one_hot', 0.08008),\n",
       " ('discrete_purpose_4_one_hot', 0.08008000000000001),\n",
       " ('discrete_addr_state_11_one_hot', 0.08010000000000002),\n",
       " ('discrete_addr_state_13_one_hot', 0.08012),\n",
       " ('discrete_purpose_12_one_hot', 0.08012),\n",
       " ('discrete_purpose_7_one_hot', 0.08013999999999996),\n",
       " ('discrete_purpose_8_one_hot', 0.08013999999999996),\n",
       " ('discrete_addr_state_9_one_hot', 0.08013999999999999),\n",
       " ('continuous_fico_range_high', 0.08014000000000002),\n",
       " ('continuous_fico_range_low', 0.08014000000000002),\n",
       " ('discrete_addr_state_6_one_hot', 0.08015999999999998),\n",
       " ('discrete_sub_grade_12_one_hot', 0.08015999999999998),\n",
       " ('discrete_purpose_2_one_hot', 0.08016000000000001),\n",
       " ('discrete_addr_state_15_one_hot', 0.08017999999999999),\n",
       " ('discrete_sub_grade_2_one_hot', 0.08017999999999999),\n",
       " ('continuous_int_rate', 0.08018),\n",
       " ('discrete_addr_state_45_one_hot', 0.08018),\n",
       " ('discrete_grade_2_one_hot', 0.08018),\n",
       " ('discrete_sub_grade_20_one_hot', 0.08018),\n",
       " ('discrete_grade_5_one_hot', 0.08018000000000003),\n",
       " ('discrete_addr_state_32_one_hot', 0.08020000000000002),\n",
       " ('discrete_purpose_6_one_hot', 0.08021999999999999),\n",
       " ('discrete_sub_grade_21_one_hot', 0.08022),\n",
       " ('discrete_sub_grade_15_one_hot', 0.08022000000000003),\n",
       " ('discrete_purpose_9_one_hot', 0.08023999999999998),\n",
       " ('continuous_inq_last_6mths', 0.08024),\n",
       " ('discrete_grade_4_one_hot', 0.08024000000000002),\n",
       " ('discrete_home_ownership_2_one_hot', 0.08024000000000002),\n",
       " ('discrete_addr_state_4_one_hot', 0.08025999999999997),\n",
       " ('continuous_funded_amnt', 0.08026),\n",
       " ('discrete_addr_state_31_one_hot', 0.08026),\n",
       " ('discrete_grade_1_one_hot', 0.08026),\n",
       " ('discrete_grade_7_one_hot', 0.08026),\n",
       " ('discrete_purpose_3_one_hot', 0.08026),\n",
       " ('discrete_sub_grade_18_one_hot', 0.08026),\n",
       " ('discrete_sub_grade_24_one_hot', 0.08026),\n",
       " ('discrete_sub_grade_4_one_hot', 0.08026000000000003),\n",
       " ('discrete_addr_state_20_one_hot', 0.08027999999999999),\n",
       " ('discrete_sub_grade_5_one_hot', 0.08027999999999999),\n",
       " ('discrete_addr_state_26_one_hot', 0.08028000000000002),\n",
       " ('discrete_addr_state_12_one_hot', 0.0803),\n",
       " ('discrete_addr_state_18_one_hot', 0.0803),\n",
       " ('discrete_addr_state_39_one_hot', 0.0803),\n",
       " ('discrete_addr_state_40_one_hot', 0.0803),\n",
       " ('discrete_addr_state_41_one_hot', 0.0803),\n",
       " ('discrete_addr_state_42_one_hot', 0.0803),\n",
       " ('discrete_emp_length_10_one_hot', 0.0803),\n",
       " ('discrete_sub_grade_17_one_hot', 0.08030000000000001),\n",
       " ('discrete_addr_state_3_one_hot', 0.08031999999999999),\n",
       " ('discrete_addr_state_14_one_hot', 0.08031999999999999),\n",
       " ('discrete_addr_state_16_one_hot', 0.08031999999999999),\n",
       " ('discrete_addr_state_43_one_hot', 0.08031999999999999),\n",
       " ('discrete_purpose_11_one_hot', 0.08031999999999999),\n",
       " ('continuous_funded_amnt_inv', 0.08034),\n",
       " ('discrete_addr_state_17_one_hot', 0.08034),\n",
       " ('discrete_sub_grade_22_one_hot', 0.08034),\n",
       " ('continuous_last_fico_range_high', 0.08035999999999999),\n",
       " ('continuous_last_fico_range_low', 0.08035999999999999),\n",
       " ('discrete_emp_length_3_one_hot', 0.08035999999999999)]"
      ]
     },
     "execution_count": 97,
     "metadata": {},
     "output_type": "execute_result"
    }
   ],
   "source": [
    "# 大于基准的结果排序\n",
    "gt_base_acc"
   ]
  },
  {
   "cell_type": "markdown",
   "metadata": {},
   "source": [
    "### 将大于baseline的结果叠加组合删除"
   ]
  },
  {
   "cell_type": "code",
   "execution_count": null,
   "metadata": {
    "scrolled": true
   },
   "outputs": [],
   "source": [
    "%%time\n",
    "# 分别去除前2-15个变量查看效果\n",
    "del_combina_acc_res = []\n",
    "del_combina_mean_acc_res = []\n",
    "for num in range(2, 16):\n",
    "    temp_train = train.drop(columns=gt_columns[:num])\n",
    "    temp_test = test.drop(columns=gt_columns[: num])\n",
    "    temp_fitter = LGBFitter(label='loan_status')\n",
    "    temp_kfold = KFold(n_splits=5)\n",
    "    *_, temp_base_acc_result, _ = temp_fitter.train_k_fold(\n",
    "        temp_kfold, temp_train, temp_test, params=params)\n",
    "    del_combina_acc_res.append(temp_base_acc_result)\n",
    "    del_combina_mean_acc_res.append(statistics.mean(temp_base_acc_result))"
   ]
  },
  {
   "cell_type": "code",
   "execution_count": 100,
   "metadata": {},
   "outputs": [
    {
     "data": {
      "text/plain": [
       "{2: 0.0803,\n",
       " 3: 0.0806,\n",
       " 4: 0.07962,\n",
       " 5: 0.08028000000000002,\n",
       " 6: 0.08018000000000003,\n",
       " 7: 0.08008,\n",
       " 8: 0.08042,\n",
       " 9: 0.08032000000000002,\n",
       " 10: 0.08027999999999999,\n",
       " 11: 0.08079999999999998,\n",
       " 12: 0.08115999999999998,\n",
       " 13: 0.08080000000000001,\n",
       " 14: 0.08035999999999999,\n",
       " 15: 0.08066}"
      ]
     },
     "execution_count": 100,
     "metadata": {},
     "output_type": "execute_result"
    }
   ],
   "source": [
    "combina_nams__mean_acc_res = dict(zip(list(range(2, 16)), del_combina_mean_acc_res))\n",
    "combina_nams__mean_acc_res"
   ]
  },
  {
   "cell_type": "code",
   "execution_count": 93,
   "metadata": {},
   "outputs": [
    {
     "data": {
      "text/plain": [
       "0.0007400000000000184"
      ]
     },
     "execution_count": 93,
     "metadata": {},
     "output_type": "execute_result"
    }
   ],
   "source": [
    "mean_base_acc_result - 0.07962"
   ]
  },
  {
   "cell_type": "code",
   "execution_count": 104,
   "metadata": {
    "scrolled": false
   },
   "outputs": [
    {
     "data": {
      "text/plain": [
       "[(4, 0.07962),\n",
       " (7, 0.08008),\n",
       " (6, 0.08018000000000003),\n",
       " (10, 0.08027999999999999),\n",
       " (5, 0.08028000000000002),\n",
       " (2, 0.0803),\n",
       " (9, 0.08032000000000002),\n",
       " (14, 0.08035999999999999),\n",
       " (8, 0.08042),\n",
       " (3, 0.0806),\n",
       " (15, 0.08066),\n",
       " (11, 0.08079999999999998),\n",
       " (13, 0.08080000000000001),\n",
       " (12, 0.08115999999999998)]"
      ]
     },
     "execution_count": 104,
     "metadata": {},
     "output_type": "execute_result"
    }
   ],
   "source": [
    "sorted(combina_nams__mean_acc_res.items(), key= lambda kv: kv[1])"
   ]
  },
  {
   "cell_type": "markdown",
   "metadata": {},
   "source": [
    "### 由于上面都是onehot之后的变量，尝试删除所有purpose变量看看效果"
   ]
  },
  {
   "cell_type": "code",
   "execution_count": 108,
   "metadata": {},
   "outputs": [
    {
     "name": "stdout",
     "output_type": "stream",
     "text": [
      "The minimum is attained in round 68\n",
      "Finished loading model, total used 972 iterations\n",
      "The minimum is attained in round 31\n",
      "Finished loading model, total used 962 iterations\n",
      "The minimum is attained in round 38\n",
      "Finished loading model, total used 941 iterations\n",
      "The minimum is attained in round 290\n",
      "Finished loading model, total used 957 iterations\n",
      "The minimum is attained in round 52\n",
      "Finished loading model, total used 965 iterations\n"
     ]
    }
   ],
   "source": [
    "drop_purpose = [i for i in data.columns if 'discrete_purpose' in i]\n",
    "temp_train = train.drop(columns=drop_purpose)\n",
    "temp_test = test.drop(columns=drop_purpose)\n",
    "temp_fitter = LGBFitter(label='loan_status')\n",
    "temp_kfold = KFold(n_splits=5)\n",
    "*_, temp_base_acc_result, _ = temp_fitter.train_k_fold(temp_kfold, temp_train, temp_test, params=params)"
   ]
  },
  {
   "cell_type": "code",
   "execution_count": 110,
   "metadata": {},
   "outputs": [
    {
     "data": {
      "text/plain": [
       "0.08026"
      ]
     },
     "execution_count": 110,
     "metadata": {},
     "output_type": "execute_result"
    }
   ],
   "source": [
    "statistics.mean(temp_base_acc_result)"
   ]
  },
  {
   "cell_type": "markdown",
   "metadata": {},
   "source": [
    "### 变量关于loan_status的相关性系数过滤"
   ]
  },
  {
   "cell_type": "code",
   "execution_count": 111,
   "metadata": {},
   "outputs": [],
   "source": [
    "loan_status_cor = data.corr()[['loan_status']]"
   ]
  },
  {
   "cell_type": "code",
   "execution_count": 155,
   "metadata": {},
   "outputs": [
    {
     "data": {
      "text/plain": [
       "['continuous_mths_since_last_delinq',\n",
       " 'continuous_mths_since_last_major_derog',\n",
       " 'discrete_addr_state_1_one_hot',\n",
       " 'discrete_addr_state_2_one_hot',\n",
       " 'discrete_addr_state_3_one_hot',\n",
       " 'discrete_addr_state_5_one_hot',\n",
       " 'discrete_addr_state_7_one_hot',\n",
       " 'discrete_addr_state_8_one_hot',\n",
       " 'discrete_addr_state_9_one_hot',\n",
       " 'discrete_addr_state_10_one_hot',\n",
       " 'discrete_addr_state_11_one_hot',\n",
       " 'discrete_addr_state_12_one_hot',\n",
       " 'discrete_addr_state_13_one_hot',\n",
       " 'discrete_addr_state_14_one_hot',\n",
       " 'discrete_addr_state_15_one_hot',\n",
       " 'discrete_addr_state_16_one_hot',\n",
       " 'discrete_addr_state_17_one_hot',\n",
       " 'discrete_addr_state_18_one_hot',\n",
       " 'discrete_addr_state_20_one_hot',\n",
       " 'discrete_addr_state_22_one_hot',\n",
       " 'discrete_addr_state_24_one_hot',\n",
       " 'discrete_addr_state_25_one_hot',\n",
       " 'discrete_addr_state_26_one_hot',\n",
       " 'discrete_addr_state_27_one_hot',\n",
       " 'discrete_addr_state_28_one_hot',\n",
       " 'discrete_addr_state_29_one_hot',\n",
       " 'discrete_addr_state_30_one_hot',\n",
       " 'discrete_addr_state_31_one_hot',\n",
       " 'discrete_addr_state_32_one_hot',\n",
       " 'discrete_addr_state_33_one_hot',\n",
       " 'discrete_addr_state_37_one_hot',\n",
       " 'discrete_addr_state_39_one_hot',\n",
       " 'discrete_addr_state_41_one_hot',\n",
       " 'discrete_addr_state_42_one_hot',\n",
       " 'discrete_addr_state_44_one_hot',\n",
       " 'discrete_addr_state_45_one_hot',\n",
       " 'discrete_addr_state_46_one_hot',\n",
       " 'discrete_addr_state_47_one_hot',\n",
       " 'discrete_addr_state_48_one_hot',\n",
       " 'discrete_addr_state_49_one_hot',\n",
       " 'discrete_application_type_1_one_hot',\n",
       " 'discrete_application_type_2_one_hot',\n",
       " 'discrete_emp_length_2_one_hot',\n",
       " 'discrete_emp_length_3_one_hot',\n",
       " 'discrete_emp_length_4_one_hot',\n",
       " 'discrete_emp_length_5_one_hot',\n",
       " 'discrete_emp_length_6_one_hot',\n",
       " 'discrete_emp_length_7_one_hot',\n",
       " 'discrete_emp_length_8_one_hot',\n",
       " 'discrete_emp_length_9_one_hot',\n",
       " 'discrete_emp_length_10_one_hot',\n",
       " 'discrete_emp_length_11_one_hot',\n",
       " 'discrete_home_ownership_3_one_hot',\n",
       " 'discrete_home_ownership_4_one_hot',\n",
       " 'discrete_policy_code_1_one_hot',\n",
       " 'discrete_purpose_4_one_hot',\n",
       " 'discrete_purpose_6_one_hot',\n",
       " 'discrete_purpose_8_one_hot',\n",
       " 'discrete_purpose_10_one_hot',\n",
       " 'discrete_purpose_11_one_hot',\n",
       " 'discrete_purpose_12_one_hot',\n",
       " 'discrete_pymnt_plan_1_one_hot',\n",
       " 'discrete_sub_grade_2_one_hot',\n",
       " 'discrete_sub_grade_10_one_hot']"
      ]
     },
     "execution_count": 155,
     "metadata": {},
     "output_type": "execute_result"
    }
   ],
   "source": [
    "loan_status_cor['corr_absolute_value'] = loan_status_cor['loan_status'].abs()\n",
    "cor_del_feature = loan_status_cor[(loan_status_cor['corr_absolute_value'] < 0.01) | (\n",
    "    loan_status_cor['corr_absolute_value'].isna())].index.to_list()\n",
    "cor_del_feature"
   ]
  },
  {
   "cell_type": "code",
   "execution_count": 156,
   "metadata": {},
   "outputs": [
    {
     "name": "stdout",
     "output_type": "stream",
     "text": [
      "The minimum is attained in round 44\n",
      "Finished loading model, total used 955 iterations\n",
      "The minimum is attained in round 47\n",
      "Finished loading model, total used 943 iterations\n",
      "The minimum is attained in round 78\n",
      "Finished loading model, total used 943 iterations\n",
      "The minimum is attained in round 337\n",
      "Finished loading model, total used 939 iterations\n",
      "The minimum is attained in round 170\n",
      "Finished loading model, total used 951 iterations\n"
     ]
    }
   ],
   "source": [
    "temp_train = train.drop(columns=cor_del_feature)\n",
    "temp_test = test.drop(columns=cor_del_feature)\n",
    "temp_fitter = LGBFitter(label='loan_status')\n",
    "temp_kfold = KFold(n_splits=5)\n",
    "*_, temp_base_acc_result, _ = temp_fitter.train_k_fold(temp_kfold, temp_train, temp_test, params=params)"
   ]
  },
  {
   "cell_type": "code",
   "execution_count": 157,
   "metadata": {},
   "outputs": [
    {
     "data": {
      "text/plain": [
       "0.07984"
      ]
     },
     "execution_count": 157,
     "metadata": {},
     "output_type": "execute_result"
    }
   ],
   "source": [
    "statistics.mean(temp_base_acc_result)"
   ]
  },
  {
   "cell_type": "code",
   "execution_count": null,
   "metadata": {},
   "outputs": [],
   "source": []
  },
  {
   "cell_type": "code",
   "execution_count": null,
   "metadata": {},
   "outputs": [],
   "source": []
  }
 ],
 "metadata": {
  "kernelspec": {
   "display_name": "Python 3",
   "language": "python",
   "name": "python3"
  },
  "language_info": {
   "codemirror_mode": {
    "name": "ipython",
    "version": 3
   },
   "file_extension": ".py",
   "mimetype": "text/x-python",
   "name": "python",
   "nbconvert_exporter": "python",
   "pygments_lexer": "ipython3",
   "version": "3.8.6"
  },
  "toc": {
   "base_numbering": 1,
   "nav_menu": {
    "height": "228px",
    "width": "192px"
   },
   "number_sections": true,
   "sideBar": true,
   "skip_h1_title": false,
   "title_cell": "Table of Contents",
   "title_sidebar": "Contents",
   "toc_cell": false,
   "toc_position": {},
   "toc_section_display": true,
   "toc_window_display": true
  }
 },
 "nbformat": 4,
 "nbformat_minor": 4
}
